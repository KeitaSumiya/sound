{
 "cells": [
  {
   "cell_type": "code",
   "execution_count": null,
   "metadata": {
    "collapsed": false
   },
   "outputs": [],
   "source": [
    "import numpy as np\n",
    "import cv2\n",
    "%matplotlib inline\n",
    "import matplotlib.pyplot as plt\n",
    "from itertools import chain"
   ]
  },
  {
   "cell_type": "code",
   "execution_count": null,
   "metadata": {
    "collapsed": true
   },
   "outputs": [],
   "source": [
    "def divideimage(img, divw, divh):\n",
    "    height, width, channels = img.shape\n",
    "    dh = (height-1)/divh\n",
    "    dw = (width-1)/divw\n",
    "\n",
    "    heights=[0]\n",
    "    for i in range(1,divh):\n",
    "        heights.append(int(np.floor(i * dh)))\n",
    "        heights.append(int(np.floor(i * dh + 1)))\n",
    "    heights.append(height-1)\n",
    "\n",
    "    widths=[0]\n",
    "    for i in range(1,divw):\n",
    "        widths.append(int(np.floor(i * dw)))\n",
    "        widths.append(int(np.floor(i * dw + 1)))\n",
    "    widths.append(width-1)\n",
    "\n",
    "    imgF = np.float_(img);\n",
    "\n",
    "    dividedimgs = []\n",
    "    for ih in range(0,len(heights)-1,2):\n",
    "        temp = []\n",
    "        for iw in range(0,len(widths)-1,2):\n",
    "            temp.append( imgF[heights[ih]:heights[ih+1], widths[iw]:widths[iw+1]] )\n",
    "        dividedimgs.append( temp )\n",
    "\n",
    "    dividedimgs = np.array(dividedimgs)\n",
    "    \n",
    "    return(heights, widths, dividedimgs)\n",
    "\n",
    "def mean_image(img):\n",
    "    flattened_img = np.array(list(chain.from_iterable(img)))\n",
    "    mean_img =  sum(flattened_img)/len(flattened_img)\n",
    "    return(mean_img)"
   ]
  },
  {
   "cell_type": "code",
   "execution_count": null,
   "metadata": {
    "collapsed": false
   },
   "outputs": [],
   "source": [
    "import wave\n",
    "import struct\n",
    "\n",
    "def makewave(amp,freq,sec,sr):\n",
    "    outwave = []\n",
    "    for i in range( int(sec*sr) ) :\n",
    "        w = amp*np.sin(2*np.pi*freq*i/sr)\n",
    "        outwave.append(w)\n",
    "    return(outwave)\n",
    "\n",
    "\n",
    "def wavwrite(inputlist,filename):\n",
    "    maxamp = 32767.0\n",
    "    int16wave = [int(x * maxamp) for x in inputlist]\n",
    "    binwave = struct.pack(\"h\"*len(int16wave),*int16wave)\n",
    "\n",
    "    nchannnles = 1 # 1=monoral , 2=stereo\n",
    "    sampwitdth = 2 # 1=8bit,2=16bit,3=,...\n",
    "    framerate = 44100 # sampling rate ex.44100Hz\n",
    "    nframes = len(inputlist) # framerate * sec\n",
    "    \n",
    "    of = wave.open(filename,\"w\")\n",
    "    of.setparams((nchannnles,sampwitdth,framerate,nframes,\"NONE\",\"not compressed\"))\n",
    "    of.writeframes(binwave)\n",
    "    of.close"
   ]
  },
  {
   "cell_type": "code",
   "execution_count": null,
   "metadata": {
    "collapsed": true
   },
   "outputs": [],
   "source": [
    "# amp\n",
    "#def ampFn(amp_type,t,t1,amp,aparam):\n",
    "def ampFn(amp_type,t,t1,dt,amp,aparam):\n",
    "    if amp_type == 1:\n",
    "        if t <= t1:\n",
    "            ampVal = 0\n",
    "        else:\n",
    "            if t <= aparam[0] + t1:\n",
    "                ampVal = amp*(t-t1)/aparam[0]\n",
    "            else:\n",
    "                ampVal = amp*(-(t-dt)/dt)*((aparam[0]+aparam[2])/(t-t1+aparam[2]))**aparam[1]\n",
    "\n",
    "    return(ampVal)\n",
    "\n",
    "\n",
    "def makeampFnwave(amp,freq,sec,sr):\n",
    "    outwave = []\n",
    "    aparam = [0.02, 1.4, 0.02*sec]\n",
    "    for i in range( int(sec*sr) ) :\n",
    "#        w = ampFn(1, i/sr, 0.1*sec, amp, aparam)*np.sin(2*np.pi*freq*i/sr)\n",
    "        w = ampFn(1, i/sr, 0.1*sec, sec, amp, aparam)*np.sin(2*np.pi*freq*i/sr)\n",
    "        outwave.append(w)\n",
    "    return(outwave)"
   ]
  },
  {
   "cell_type": "code",
   "execution_count": null,
   "metadata": {
    "collapsed": true
   },
   "outputs": [],
   "source": [
    "import math\n",
    "\n",
    "def color2key(initial_octave, plus_octave, initial_key, color):\n",
    "    keymin = 12*initial_octave + initial_key\n",
    "    keymax = 12*(initial_octave + plus_octave) + initial_key + 1\n",
    "    dkey = keymax - keymin\n",
    "\n",
    "    freq_temp = keymin + dkey * color / 255\n",
    "#    freq_temp = keymin + int(dkey * color / 255)\n",
    "    freq_temp2 = math.pow(2.0, freq_temp)\n",
    "    freq = 27.5 * ((freq_temp2) ** (1.0/12.0))\n",
    "    \n",
    "    return(freq)"
   ]
  },
  {
   "cell_type": "code",
   "execution_count": null,
   "metadata": {
    "collapsed": false
   },
   "outputs": [],
   "source": [
    "#img = cv2.imread(\"../../_fig/_others/miporin.jpg\")\n",
    "img = cv2.imread(\"../../_fig/monet/woman_withparasol.jpg\")\n",
    "img = cv2.cvtColor(img,cv2.COLOR_BGR2RGB)\n",
    "height, width, channels = img.shape\n",
    "plt.imshow(img)"
   ]
  },
  {
   "cell_type": "code",
   "execution_count": null,
   "metadata": {
    "collapsed": true
   },
   "outputs": [],
   "source": [
    "divh = 25\n",
    "divw = 20\n",
    "heights, widths, dividedimgs = divideimage(img, divw, divh)"
   ]
  },
  {
   "cell_type": "code",
   "execution_count": null,
   "metadata": {
    "collapsed": true
   },
   "outputs": [],
   "source": [
    "decolor_imgs = []\n",
    "for ih in range(divh):\n",
    "    temp = []\n",
    "    for iw in range(divw):\n",
    "        temp.append( mean_image(dividedimgs[ih,iw]) )\n",
    "    decolor_imgs.append(temp)\n",
    "decolor_imgs = np.array(decolor_imgs)"
   ]
  },
  {
   "cell_type": "code",
   "execution_count": null,
   "metadata": {
    "collapsed": false
   },
   "outputs": [],
   "source": [
    "decolor_img = np.zeros((height,width,3), np.uint8)\n",
    "for ih in range(0,2*divh-1,2):\n",
    "    for iw in range(0,2*divw-1,2):\n",
    "        cv2.rectangle(decolor_img, (widths[iw],heights[ih]), (widths[iw+1],heights[ih+1]), decolor_imgs[int(ih/2),int(iw/2)], -1, 0)\n",
    "plt.imshow(decolor_img)"
   ]
  },
  {
   "cell_type": "code",
   "execution_count": null,
   "metadata": {
    "collapsed": true
   },
   "outputs": [],
   "source": [
    "flattened_decolor_imgs = np.array(list(chain.from_iterable(decolor_imgs)))"
   ]
  },
  {
   "cell_type": "code",
   "execution_count": null,
   "metadata": {
    "collapsed": false
   },
   "outputs": [],
   "source": [
    "rs = flattened_decolor_imgs[:,0]\n",
    "gs = flattened_decolor_imgs[:,1]\n",
    "bs = flattened_decolor_imgs[:,2]"
   ]
  },
  {
   "cell_type": "code",
   "execution_count": null,
   "metadata": {
    "collapsed": false
   },
   "outputs": [],
   "source": [
    "initial_octave = 3\n",
    "initial_key = 3 # A:0, C:3\n",
    "plus_octave = 1\n",
    "\n",
    "freq = color2key(initial_octave, plus_octave, initial_key, rs[6])\n",
    "freq"
   ]
  },
  {
   "cell_type": "code",
   "execution_count": null,
   "metadata": {
    "collapsed": false
   },
   "outputs": [],
   "source": [
    "secmin = 0\n",
    "dsec = 1\n",
    "sec = secmin + dsec * rs[6] / 255\n",
    "sec"
   ]
  },
  {
   "cell_type": "code",
   "execution_count": null,
   "metadata": {
    "collapsed": false
   },
   "outputs": [],
   "source": [
    "sr = 44100 # sampling rate ex.44100Hz"
   ]
  },
  {
   "cell_type": "code",
   "execution_count": null,
   "metadata": {
    "collapsed": true
   },
   "outputs": [],
   "source": [
    "colors = rs\n",
    "\n",
    "wave_temp = []\n",
    "for i in range(len(colors)):\n",
    "    freq = color2key(initial_octave+1, plus_octave, initial_key, colors[i])\n",
    "    sec = secmin + dsec * (colors[i] / 255)**2\n",
    "    wave_temp.append( makeampFnwave(1, freq, sec, sr) )\n",
    "wave_temp = np.array(list(chain.from_iterable(wave_temp)))\n",
    "\n",
    "wave_temp_r = wave_temp"
   ]
  },
  {
   "cell_type": "code",
   "execution_count": null,
   "metadata": {
    "collapsed": true
   },
   "outputs": [],
   "source": [
    "colors = gs\n",
    "\n",
    "wave_temp = []\n",
    "for i in range(len(colors)):\n",
    "    freq = color2key(initial_octave, plus_octave, initial_key, colors[i])\n",
    "    sec = secmin + dsec * (colors[i] / 255)**2\n",
    "    wave_temp.append( makeampFnwave(1, freq, sec, sr) )\n",
    "wave_temp = np.array(list(chain.from_iterable(wave_temp)))\n",
    "\n",
    "wave_temp_g = wave_temp"
   ]
  },
  {
   "cell_type": "code",
   "execution_count": null,
   "metadata": {
    "collapsed": true
   },
   "outputs": [],
   "source": [
    "colors = bs\n",
    "\n",
    "wave_temp = []\n",
    "for i in range(len(colors)):\n",
    "    freq = color2key(initial_octave-1, plus_octave, initial_key, colors[i])\n",
    "    sec = secmin + dsec * (colors[i] / 255)**2\n",
    "    wave_temp.append( makeampFnwave(1, freq, sec, sr) )\n",
    "wave_temp = np.array(list(chain.from_iterable(wave_temp)))\n",
    "\n",
    "wave_temp_b = wave_temp"
   ]
  },
  {
   "cell_type": "code",
   "execution_count": null,
   "metadata": {
    "collapsed": false
   },
   "outputs": [],
   "source": [
    "wave_temp_lens = [len(wave_temp_r), len(wave_temp_g), len(wave_temp_b)]\n",
    "print( wave_temp_lens )\n",
    "lenmax = max(wave_temp_lens)\n",
    "print( lenmax )"
   ]
  },
  {
   "cell_type": "code",
   "execution_count": null,
   "metadata": {
    "collapsed": false
   },
   "outputs": [],
   "source": [
    "temp = wave_temp_r\n",
    "temp = np.array(list(chain.from_iterable( [temp, np.zeros(lenmax-len(temp))] )))\n",
    "wave_temp_r = temp\n",
    "\n",
    "temp = wave_temp_g\n",
    "temp = np.array(list(chain.from_iterable( [temp, np.zeros(lenmax-len(temp))] )))\n",
    "wave_temp_g = temp\n",
    "\n",
    "temp = wave_temp_b\n",
    "temp = np.array(list(chain.from_iterable( [temp, np.zeros(lenmax-len(temp))] )))\n",
    "wave_temp_b = temp\n",
    "\n",
    "wave_temp_rgb = wave_temp_r + wave_temp_g + wave_temp_b"
   ]
  },
  {
   "cell_type": "code",
   "execution_count": null,
   "metadata": {
    "collapsed": false
   },
   "outputs": [],
   "source": [
    "wave_temp_rgb_max = max(abs(wave_temp_rgb))\n",
    "print(wave_temp_rgb_max)\n",
    "wave_temp_rgb = wave_temp_rgb/wave_temp_rgb_max"
   ]
  },
  {
   "cell_type": "code",
   "execution_count": null,
   "metadata": {
    "collapsed": false
   },
   "outputs": [],
   "source": [
    "plt.plot(wave_temp_rgb[0:2*sr])"
   ]
  },
  {
   "cell_type": "code",
   "execution_count": null,
   "metadata": {
    "collapsed": false
   },
   "outputs": [],
   "source": [
    "wavwrite(wave_temp_rgb,\"music_rgb.wav\")"
   ]
  },
  {
   "cell_type": "code",
   "execution_count": null,
   "metadata": {
    "collapsed": true
   },
   "outputs": [],
   "source": []
  },
  {
   "cell_type": "code",
   "execution_count": null,
   "metadata": {
    "collapsed": true
   },
   "outputs": [],
   "source": []
  },
  {
   "cell_type": "code",
   "execution_count": null,
   "metadata": {
    "collapsed": true
   },
   "outputs": [],
   "source": []
  },
  {
   "cell_type": "code",
   "execution_count": null,
   "metadata": {
    "collapsed": true
   },
   "outputs": [],
   "source": []
  }
 ],
 "metadata": {
  "kernelspec": {
   "display_name": "Python 3",
   "language": "python",
   "name": "python3"
  },
  "language_info": {
   "codemirror_mode": {
    "name": "ipython",
    "version": 3
   },
   "file_extension": ".py",
   "mimetype": "text/x-python",
   "name": "python",
   "nbconvert_exporter": "python",
   "pygments_lexer": "ipython3",
   "version": "3.5.1"
  }
 },
 "nbformat": 4,
 "nbformat_minor": 0
}
