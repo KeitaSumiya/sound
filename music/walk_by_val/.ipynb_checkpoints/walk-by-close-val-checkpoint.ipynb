{
 "cells": [
  {
   "cell_type": "code",
   "execution_count": 1,
   "metadata": {
    "collapsed": false
   },
   "outputs": [],
   "source": [
    "import numpy as np\n",
    "import cv2\n",
    "%matplotlib inline\n",
    "import matplotlib.pyplot as plt\n",
    "from itertools import chain\n",
    "import random"
   ]
  },
  {
   "cell_type": "code",
   "execution_count": 2,
   "metadata": {
    "collapsed": true
   },
   "outputs": [],
   "source": [
    "def divideimage(img, divw, divh):\n",
    "    height, width, channels = img.shape\n",
    "    dh = (height-1)/divh\n",
    "    dw = (width-1)/divw\n",
    "\n",
    "    heights=[0]\n",
    "    for i in range(1,divh):\n",
    "        heights.append(int(np.floor(i * dh)))\n",
    "        heights.append(int(np.floor(i * dh + 1)))\n",
    "    heights.append(height-1)\n",
    "\n",
    "    widths=[0]\n",
    "    for i in range(1,divw):\n",
    "        widths.append(int(np.floor(i * dw)))\n",
    "        widths.append(int(np.floor(i * dw + 1)))\n",
    "    widths.append(width-1)\n",
    "\n",
    "    imgF = np.float_(img);\n",
    "\n",
    "    dividedimgs = []\n",
    "    for ih in range(0,len(heights)-1,2):\n",
    "        temp = []\n",
    "        for iw in range(0,len(widths)-1,2):\n",
    "            temp.append( imgF[heights[ih]:heights[ih+1], widths[iw]:widths[iw+1]] )\n",
    "        dividedimgs.append( temp )\n",
    "\n",
    "    dividedimgs = np.array(dividedimgs)\n",
    "    \n",
    "    return(heights, widths, dividedimgs)\n",
    "\n",
    "def mean_image(img):\n",
    "    flattened_img = np.array(list(chain.from_iterable(img)))\n",
    "    mean_img =  sum(flattened_img)/len(flattened_img)\n",
    "    return(mean_img)"
   ]
  },
  {
   "cell_type": "code",
   "execution_count": 3,
   "metadata": {
    "collapsed": false
   },
   "outputs": [],
   "source": [
    "import wave\n",
    "import struct\n",
    "\n",
    "def makewave(amp,freq,sec,sr):\n",
    "    outwave = []\n",
    "    for i in range( int(sec*sr) ) :\n",
    "        w = amp*np.sin(2*np.pi*freq*i/sr)\n",
    "        outwave.append(w)\n",
    "    return(outwave)\n",
    "\n",
    "\n",
    "def wavwrite(inputlist,filename):\n",
    "    maxamp = 32767.0\n",
    "    int16wave = [int(x * maxamp) for x in inputlist]\n",
    "    binwave = struct.pack(\"h\"*len(int16wave),*int16wave)\n",
    "\n",
    "    nchannnles = 1 # 1=monoral , 2=stereo\n",
    "    sampwitdth = 2 # 1=8bit,2=16bit,3=,...\n",
    "    framerate = 44100 # sampling rate ex.44100Hz\n",
    "    nframes = len(inputlist) # framerate * sec\n",
    "    \n",
    "    of = wave.open(filename,\"w\")\n",
    "    of.setparams((nchannnles,sampwitdth,framerate,nframes,\"NONE\",\"not compressed\"))\n",
    "    of.writeframes(binwave)\n",
    "    of.close"
   ]
  },
  {
   "cell_type": "code",
   "execution_count": 148,
   "metadata": {
    "collapsed": true
   },
   "outputs": [],
   "source": [
    "# amp\n",
    "def ampFn(amp_type,t,t0,T,amp,aparam):\n",
    "    # t0: initial time\n",
    "    # T: length of time for sound\n",
    "    # t1: time of peak\n",
    "    # a1: trancation exponent(a1=1: NoEffect, 1<<a1: too tracate)\n",
    "    # a2: trancation exponent(0<a2, 0<a2<<1: too tracate, 1<<a2: NoEffect\n",
    "    # a1=-1&a2=1: convex trancation shape\n",
    "    t1 = aparam[0]\n",
    "    a1 = aparam[1]\n",
    "    a2 = aparam[2]\n",
    "    if amp_type == 1:\n",
    "        if t <= t0:\n",
    "            ampVal = 0\n",
    "        else:\n",
    "            if t <= t0 + t1:\n",
    "                ampVal = amp*(t-t0)/t1\n",
    "            else:\n",
    "                ampVal = amp*(-(t-T)/T)*((t1+a2)/(t-t0+a2))**a1\n",
    "\n",
    "    return(ampVal)\n",
    "\n",
    "\n",
    "def makeampFnwave(amp,freq,sec,sr,aparam):\n",
    "    outwave = []\n",
    "    T = sec\n",
    "    dt = 1/sr\n",
    "    t0 = 0\n",
    "#    aparam = [0.02*T, 1, 0.1] #t1,a1,a2\n",
    "#    for i in range( int(sec*sr) ) :\n",
    "#        w = ampFn(1, i/sr, 0.1*sec, sec, amp, aparam)*np.sin(2*np.pi*freq*i/sr)\n",
    "    for t in np.arange( 0., T+dt, dt ) :\n",
    "        w = ampFn(1, t, t0, T, amp, aparam)*np.sin(2*np.pi*freq*t)\n",
    "        outwave.append(w)\n",
    "    return(outwave)"
   ]
  },
  {
   "cell_type": "code",
   "execution_count": 133,
   "metadata": {
    "collapsed": false
   },
   "outputs": [
    {
     "data": {
      "text/plain": [
       "array([ 0. ,  0.1,  0.2,  0.3,  0.4,  0.5,  0.6,  0.7,  0.8,  0.9,  1. ,\n",
       "        1.1,  1.2,  1.3,  1.4,  1.5,  1.6,  1.7,  1.8,  1.9,  2. ])"
      ]
     },
     "execution_count": 133,
     "metadata": {},
     "output_type": "execute_result"
    }
   ],
   "source": [
    "np.arange(0,2.+0.1,0.1)"
   ]
  },
  {
   "cell_type": "code",
   "execution_count": 569,
   "metadata": {
    "collapsed": true
   },
   "outputs": [],
   "source": [
    "import math\n",
    "\n",
    "def color2key(initial_octave, plus_octave, initial_key, color):\n",
    "    keymin = 12*initial_octave + initial_key\n",
    "    keymax = 12*(initial_octave + plus_octave) + initial_key + 1\n",
    "    dkey = keymax - keymin\n",
    "\n",
    "    freq_temp = keymin + dkey * color / 255\n",
    "#    freq_temp = keymin + int(dkey * color / 255)\n",
    "    freq_temp2 = math.pow(2.0, freq_temp)\n",
    "    freq = 27.5 * ((freq_temp2) ** (1.0/12.0))\n",
    "    \n",
    "    return(freq)\n",
    "\n",
    "def hue2key(initial_octave, plus_octave, initial_key, colors):\n",
    "    color = colors[0]\n",
    "    colormin = colors[1]\n",
    "    colormax = colors[2]\n",
    "    dcolor = colormax-colormin\n",
    "    keymin = 12*initial_octave + initial_key\n",
    "    keymax = 12*(initial_octave + plus_octave) + initial_key + 1\n",
    "    dkey = keymax - keymin\n",
    "\n",
    "    # C0=1, C4=39\n",
    "#    whites = [39, 41, 43, 44, 46, 48, 50, 52]\n",
    "#    blacks = [40, 42, 45, 47, 49, 51]\n",
    "    whitebase=[1,3,5,6,8,10,12]\n",
    "    blackbase=[2,4,7,9,11]\n",
    "    whites = []\n",
    "    blacks = []\n",
    "    for i in range(initial_octave, initial_octave+plus_octave+1):\n",
    "        whites.append( np.array(whitebase)+12*i )\n",
    "        blacks.append( np.array(blackbase)+12*i )\n",
    "    whites = np.concatenate(whites).tolist()\n",
    "    blacks = np.concatenate(blacks).tolist()\n",
    "    \n",
    "#    freq_temp = keymin + dkey * color / 360\n",
    "#    freq_temp = keymin + dkey * (color-colormin)/(colormax-colormin)\n",
    "    colortld = (color-colormin)/(colormax-colormin)\n",
    "    freq_temp0 = int(7*plus_octave * (colortld**(4)) )\n",
    "    freq_temp = whites[freq_temp0]\n",
    "\n",
    "    freq_temp2 = math.pow(2.0, freq_temp)\n",
    "    freq = 27.5 * ((freq_temp2) ** (1.0/12.0))\n",
    "    \n",
    "    return(freq)"
   ]
  },
  {
   "cell_type": "code",
   "execution_count": 342,
   "metadata": {
    "collapsed": false
   },
   "outputs": [
    {
     "name": "stdout",
     "output_type": "stream",
     "text": [
      "[1, 3, 5, 6, 8, 10, 12, 13, 15, 17, 18, 20, 22, 24, 25, 27, 29, 30, 32, 34, 36, 37, 39, 41, 42, 44, 46, 48, 49, 51, 53, 54, 56, 58, 60, 61, 63, 65, 66, 68, 70, 72, 73, 75, 77, 78, 80, 82, 84, 85, 87, 89, 90, 92, 94, 96, 97, 99, 101, 102, 104, 106, 108, 109, 111, 113, 114, 116, 118, 120]\n",
      "[2, 4, 7, 9, 11, 14, 16, 19, 21, 23, 26, 28, 31, 33, 35, 38, 40, 43, 45, 47, 50, 52, 55, 57, 59, 62, 64, 67, 69, 71, 74, 76, 79, 81, 83, 86, 88, 91, 93, 95, 98, 100, 103, 105, 107, 110, 112, 115, 117, 119]\n"
     ]
    }
   ],
   "source": [
    "    whitebase=[1,3,5,6,8,10,12]\n",
    "    blackbase=[2,4,7,9,11]\n",
    "    whites = []\n",
    "    blacks = []\n",
    "    for i in range(10):\n",
    "        whites.append( np.array(whitebase)+12*i )\n",
    "        blacks.append( np.array(blackbase)+12*i )\n",
    "\n",
    "    whites = np.concatenate(whites).tolist()\n",
    "    blacks = np.concatenate(blacks).tolist()\n",
    "    \n",
    "    print(whites)\n",
    "    print(blacks)"
   ]
  },
  {
   "cell_type": "code",
   "execution_count": 340,
   "metadata": {
    "collapsed": false
   },
   "outputs": [
    {
     "data": {
      "text/plain": [
       "[array([ 1,  3,  5,  6,  8, 10, 12]),\n",
       " array([13, 15, 17, 18, 20, 22, 24]),\n",
       " array([25, 27, 29, 30, 32, 34, 36]),\n",
       " array([37, 39, 41, 42, 44, 46, 48]),\n",
       " array([49, 51, 53, 54, 56, 58, 60]),\n",
       " array([61, 63, 65, 66, 68, 70, 72]),\n",
       " array([73, 75, 77, 78, 80, 82, 84]),\n",
       " array([85, 87, 89, 90, 92, 94, 96]),\n",
       " array([ 97,  99, 101, 102, 104, 106, 108]),\n",
       " array([109, 111, 113, 114, 116, 118, 120])]"
      ]
     },
     "execution_count": 340,
     "metadata": {},
     "output_type": "execute_result"
    }
   ],
   "source": [
    "whites"
   ]
  },
  {
   "cell_type": "code",
   "execution_count": 223,
   "metadata": {
    "collapsed": false
   },
   "outputs": [
    {
     "name": "stdout",
     "output_type": "stream",
     "text": [
      "219.99999999999997\n"
     ]
    }
   ],
   "source": [
    "    initial_octave = 3\n",
    "    plus_octave = 1\n",
    "    initial_key = 0\n",
    "    keymin = 12*initial_octave + initial_key\n",
    "    keymax = 12*(initial_octave + plus_octave) + initial_key + 1\n",
    "    dkey = keymax - keymin\n",
    "\n",
    "    freq_temp = keymin + dkey * 0.\n",
    "    freq_temp2 = math.pow(2.0, freq_temp)\n",
    "    freq = 27.5 * ((freq_temp2) ** (1.0/12.0))\n",
    "    print(freq)"
   ]
  },
  {
   "cell_type": "code",
   "execution_count": 6,
   "metadata": {
    "collapsed": true
   },
   "outputs": [],
   "source": [
    "#import math\n",
    "\n",
    "def hsv2rgb(h, s, v):\n",
    "    h = float(h)\n",
    "    s = float(s)\n",
    "    v = float(v)\n",
    "    h60 = h / 60.0\n",
    "    h60f = math.floor(h60)\n",
    "    hi = int(h60f) % 6\n",
    "    f = h60 - h60f\n",
    "    p = v * (1 - s)\n",
    "    q = v * (1 - f * s)\n",
    "    t = v * (1 - (1 - f) * s)\n",
    "    r, g, b = 0, 0, 0\n",
    "    if hi == 0: r, g, b = v, t, p\n",
    "    elif hi == 1: r, g, b = q, v, p\n",
    "    elif hi == 2: r, g, b = p, v, t\n",
    "    elif hi == 3: r, g, b = p, q, v\n",
    "    elif hi == 4: r, g, b = t, p, v\n",
    "    elif hi == 5: r, g, b = v, p, q\n",
    "    r, g, b = int(r * 255), int(g * 255), int(b * 255)\n",
    "    return r, g, b\n",
    "    \n",
    "def rgb2hsv(r, g, b):\n",
    "    r, g, b = r/255.0, g/255.0, b/255.0\n",
    "    mx = max(r, g, b)\n",
    "    mn = min(r, g, b)\n",
    "    df = mx-mn\n",
    "    if mx == mn:\n",
    "        h = 0\n",
    "    elif mx == r:\n",
    "        h = (60 * ((g-b)/df) + 360) % 360\n",
    "    elif mx == g:\n",
    "        h = (60 * ((b-r)/df) + 120) % 360\n",
    "    elif mx == b:\n",
    "        h = (60 * ((r-g)/df) + 240) % 360\n",
    "    if mx == 0:\n",
    "        s = 0\n",
    "    else:\n",
    "        s = df/mx\n",
    "    v = mx\n",
    "    return h, s, v\n",
    "\n",
    "# R, G, B values are [0, 255]. H value is [0, 360]. S, V values are [0, 1]."
   ]
  },
  {
   "cell_type": "code",
   "execution_count": 7,
   "metadata": {
    "collapsed": false
   },
   "outputs": [
    {
     "data": {
      "text/plain": [
       "<matplotlib.image.AxesImage at 0x11234e940>"
      ]
     },
     "execution_count": 7,
     "metadata": {},
     "output_type": "execute_result"
    },
    {
     "data": {
      "image/png": "[encoded data removed]",
      "text/plain": [
       "<matplotlib.figure.Figure at 0x10e17ab70>"
      ]
     },
     "metadata": {},
     "output_type": "display_data"
    }
   ],
   "source": [
    "#img = cv2.imread(\"../../_fig/_others/miporin.jpg\")\n",
    "img = cv2.imread(\"../../_fig/monet/woman_withparasol.jpg\")\n",
    "img = cv2.cvtColor(img,cv2.COLOR_BGR2RGB)\n",
    "height, width, channels = img.shape\n",
    "plt.imshow(img)"
   ]
  },
  {
   "cell_type": "code",
   "execution_count": 258,
   "metadata": {
    "collapsed": false
   },
   "outputs": [],
   "source": [
    "divh = 10\n",
    "divw = 10\n",
    "heights, widths, dividedimgs = divideimage(img, divw, divh)"
   ]
  },
  {
   "cell_type": "code",
   "execution_count": 259,
   "metadata": {
    "collapsed": false
   },
   "outputs": [
    {
     "name": "stdout",
     "output_type": "stream",
     "text": [
      "[[ 114.32610281  123.61824645  132.72823551]]\n"
     ]
    }
   ],
   "source": [
    "codesRGBF = []\n",
    "codesHSVF = []\n",
    "codes = []\n",
    "icode = 0\n",
    "iw = int(divw/2)\n",
    "ih = int(divh/2)\n",
    "codesRGBF.append( mean_image(dividedimgs[ih,iw]) )\n",
    "codesRGBF = np.array(codesRGBF)\n",
    "print(codesRGBF)"
   ]
  },
  {
   "cell_type": "code",
   "execution_count": 260,
   "metadata": {
    "collapsed": false
   },
   "outputs": [
    {
     "name": "stdout",
     "output_type": "stream",
     "text": [
      "[[  2.09703043e+02   1.38645200e-01   5.20502884e-01]]\n"
     ]
    }
   ],
   "source": [
    "codesHSVF.append( rgb2hsv(codesRGBF[icode,0],codesRGBF[icode,1],codesRGBF[icode,2]) )\n",
    "codesHSVF = np.array(codesHSVF)\n",
    "print(codesHSVF)"
   ]
  },
  {
   "cell_type": "code",
   "execution_count": 261,
   "metadata": {
    "collapsed": false
   },
   "outputs": [
    {
     "data": {
      "text/plain": [
       "array([[  2.09703043e+02,   1.38645200e-01,   5.20502884e-01]])"
      ]
     },
     "execution_count": 261,
     "metadata": {},
     "output_type": "execute_result"
    }
   ],
   "source": [
    "codesHSVF"
   ]
  },
  {
   "cell_type": "code",
   "execution_count": 308,
   "metadata": {
    "collapsed": false
   },
   "outputs": [],
   "source": [
    "icode0 = 0\n",
    "icodemax = 100\n",
    "diw = 1\n",
    "dih = 1"
   ]
  },
  {
   "cell_type": "code",
   "execution_count": 309,
   "metadata": {
    "collapsed": false,
    "scrolled": true
   },
   "outputs": [
    {
     "name": "stdout",
     "output_type": "stream",
     "text": [
      "[1, 1, 5]\n",
      "[1, 0, 5]\n",
      "[3, 0, 4]\n",
      "[3, 0, 3]\n",
      "[0, 1, 3]\n",
      "[3, 1, 2]\n",
      "[3, 1, 1]\n",
      "[3, 1, 0]\n",
      "[0, 2, 0]\n",
      "[0, 3, 0]\n",
      "[2, 3, 1]\n",
      "[2, 3, 2]\n",
      "[0, 4, 2]\n",
      "[0, 5, 2]\n",
      "[0, 6, 2]\n",
      "[3, 6, 1]\n",
      "[0, 7, 1]\n",
      "[2, 7, 2]\n",
      "[1, 6, 2]\n",
      "[1, 5, 2]\n",
      "[1, 4, 2]\n",
      "[1, 3, 2]\n",
      "[3, 3, 1]\n",
      "[3, 3, 0]\n",
      "[1, 2, 0]\n",
      "[1, 1, 0]\n",
      "[2, 1, 1]\n",
      "[2, 1, 2]\n",
      "[2, 1, 3]\n",
      "[1, 0, 3]\n",
      "[2, 0, 4]\n",
      "[2, 0, 5]\n",
      "[0, 1, 5]\n",
      "[0, 2, 5]\n",
      "[0, 3, 5]\n",
      "[3, 3, 4]\n",
      "[0, 4, 4]\n",
      "[0, 5, 4]\n",
      "[2, 5, 5]\n",
      "[2, 5, 6]\n",
      "[1, 4, 6]\n",
      "[3, 4, 5]\n",
      "[1, 3, 5]\n",
      "[1, 2, 5]\n",
      "[1, 1, 5]\n",
      "[1, 0, 5]\n",
      "[3, 0, 4]\n",
      "[3, 0, 3]\n",
      "[0, 1, 3]\n",
      "[3, 1, 2]\n",
      "[3, 1, 1]\n",
      "[3, 1, 0]\n",
      "[0, 2, 0]\n",
      "[0, 3, 0]\n",
      "[2, 3, 1]\n",
      "[2, 3, 2]\n",
      "[0, 4, 2]\n",
      "[0, 5, 2]\n",
      "[0, 6, 2]\n",
      "[3, 6, 1]\n",
      "[0, 7, 1]\n",
      "[2, 7, 2]\n",
      "[1, 6, 2]\n",
      "[1, 5, 2]\n",
      "[1, 4, 2]\n",
      "[1, 3, 2]\n",
      "[3, 3, 1]\n",
      "[3, 3, 0]\n",
      "[1, 2, 0]\n",
      "[1, 1, 0]\n",
      "[2, 1, 1]\n",
      "[2, 1, 2]\n",
      "[2, 1, 3]\n",
      "[1, 0, 3]\n",
      "[2, 0, 4]\n",
      "[2, 0, 5]\n",
      "[0, 1, 5]\n",
      "[0, 2, 5]\n",
      "[0, 3, 5]\n",
      "[3, 3, 4]\n",
      "[0, 4, 4]\n",
      "[0, 5, 4]\n",
      "[2, 5, 5]\n",
      "[2, 5, 6]\n",
      "[1, 4, 6]\n",
      "[3, 4, 5]\n",
      "[1, 3, 5]\n",
      "[1, 2, 5]\n",
      "[1, 1, 5]\n",
      "[1, 0, 5]\n",
      "[3, 0, 4]\n",
      "[3, 0, 3]\n",
      "[0, 1, 3]\n",
      "[3, 1, 2]\n",
      "[3, 1, 1]\n",
      "[3, 1, 0]\n",
      "[0, 2, 0]\n",
      "[0, 3, 0]\n",
      "[2, 3, 1]\n",
      "[2, 3, 2]\n"
     ]
    }
   ],
   "source": [
    "if( icode == 0 ):\n",
    "    iwhs = [[iw,ih]]\n",
    "    print([9,iw,ih])\n",
    "for ii in range(icodemax):\n",
    "    if( icode0 == 1 ):\n",
    "        icode = icode + 1\n",
    "                \n",
    "    nextsRGBF = []\n",
    "    nextsHSVF = []\n",
    "    ipositionBoundaries =[]\n",
    "    if(iw+diw <= divw-1):\n",
    "        nextRGBF = mean_image(dividedimgs[ih,iw+diw])\n",
    "        nextsRGBF.append( nextRGBF )\n",
    "        nexth, nexts, nextv = rgb2hsv(nextRGBF[0],nextRGBF[1],nextRGBF[2])\n",
    "        nextsHSVF.append( [nexth, nexts, nextv] )\n",
    "    else:\n",
    "        nextsRGBF.append( np.array([random.random(),random.random(),random.random()]) )\n",
    "        ipositionBoundaries.append(0)\n",
    "        nextsHSVF.append( [random.random(),random.random(),random.random()] )\n",
    "    if(iw-diw >= 0):\n",
    "        nextRGBF = mean_image(dividedimgs[ih,iw-diw])\n",
    "        nextsRGBF.append( nextRGBF )\n",
    "        nexth, nexts, nextv = rgb2hsv(nextRGBF[0],nextRGBF[1],nextRGBF[2])\n",
    "        nextsHSVF.append( [nexth, nexts, nextv] )\n",
    "    else:\n",
    "        nextsRGBF.append( np.array([random.random(),random.random(),random.random()]) )\n",
    "        ipositionBoundaries.append(1)\n",
    "        nextsHSVF.append( [random.random(),random.random(),random.random()] )\n",
    "    if(ih+dih <= divh-1):\n",
    "        nextRGBF = mean_image(dividedimgs[ih+dih,iw])\n",
    "        nextsRGBF.append( nextRGBF )\n",
    "        nexth, nexts, nextv = rgb2hsv(nextRGBF[0],nextRGBF[1],nextRGBF[2])\n",
    "        nextsHSVF.append( [nexth, nexts, nextv] )\n",
    "    else:\n",
    "        nextsRGBF.append( np.array([random.random(),random.random(),random.random()]) )\n",
    "        ipositionBoundaries.append(2)\n",
    "        nextsHSVF.append( [random.random(),random.random(),random.random()] )\n",
    "    if(ih-dih >= 0):\n",
    "        nextRGBF = mean_image(dividedimgs[ih-dih,iw])\n",
    "        nextsRGBF.append( nextRGBF )\n",
    "        nexth, nexts, nextv = rgb2hsv(nextRGBF[0],nextRGBF[1],nextRGBF[2])\n",
    "        nextsHSVF.append( [nexth, nexts, nextv] )\n",
    "    else:\n",
    "        nextsRGBF.append( np.array([random.random(),random.random(),random.random()]) )\n",
    "        ipositionBoundaries.append(3)\n",
    "        nextsHSVF.append( [random.random(),random.random(),random.random()] )\n",
    "    nextsHSVF = np.array(nextsHSVF)\n",
    "    nextsRGBF = np.array(nextsRGBF)\n",
    "\n",
    "#    if(iw > divw-1):\n",
    "#        nextsHSVF[0] = np.array([random.random(),random.random(),random.random()])\n",
    "#    if(iw < 0):\n",
    "#        nextsHSVF[1] = np.array([random.random(),random.random(),random.random()])\n",
    "#    if(ih > divh-1):\n",
    "#        nextsHSVF[2] = np.array([random.random(),random.random(),random.random()])\n",
    "#    if(ih < 0):\n",
    "#        nextsHSVF[3] = np.array([random.random(),random.random(),random.random()])\n",
    "\n",
    "    nextsHF = nextsHSVF[:,0]\n",
    "    dHues = abs( nextsHF - codesHSVF[icode,0] )\n",
    "\n",
    "    dHuesSort = np.sort(dHues)\n",
    "    dHuesSort\n",
    "\n",
    "    dHuesindex = []\n",
    "    for i in range(len(dHues)):\n",
    "        dHuesindex.append( dHues.tolist().index(dHuesSort[i]) )\n",
    "\n",
    "    dHuesindexbad = set([])\n",
    "    if( icode != 0 ):\n",
    "        dHuesindexbad.add( dHuesindex.index(ipositionold) )\n",
    "    if(len(ipositionBoundaries) > 0):\n",
    "        for i in range(len(ipositionBoundaries)):\n",
    "            if( icode != 0 ):\n",
    "                if( dHuesindex.index(ipositionold) != dHuesindex.index(ipositionBoundaries[i]) ):\n",
    "                    dHuesindexbad.add( dHuesindex.index(ipositionBoundaries[i]) )\n",
    "    dHuesindexbad = list(dHuesindexbad)\n",
    "\n",
    "    dHuesindexbad = sorted(dHuesindexbad, reverse=True)\n",
    "\n",
    "    if( len(dHuesindexbad) > 0 ):\n",
    "        for i in range( len(dHuesindexbad) ):\n",
    "            dHuesindex.pop( dHuesindexbad[i] )\n",
    "\n",
    "    iposition = dHuesindex[0]\n",
    "#    iposition = dHuesindex[ len(dHuesindex)-1 ]\n",
    "#    iposition = dHuesindex[0]\n",
    "#    iposition = dHuesindex[ len(dHuesindex)-1 ]\n",
    "#    iposition = dHuesindex[ random.randint(0,len(dHuesindex)-1) ]\n",
    "\n",
    "    codesRGBF = np.concatenate(np.array([codesRGBF, [nextsRGBF[iposition]] ]))\n",
    "    codesHSVF = np.concatenate(np.array([codesHSVF, [nextsHSVF[iposition]] ]))\n",
    "\n",
    "    #print([iw,ih])\n",
    "    if(iposition == 0):\n",
    "        iw = iw + diw\n",
    "        ipositionold = 1\n",
    "    if(iposition == 1):\n",
    "        iw = iw - diw\n",
    "        ipositionold = 0\n",
    "    if(iposition == 2):\n",
    "        ih = ih + dih\n",
    "        ipositionold = 3\n",
    "    if(iposition == 3):\n",
    "        ih = ih - dih\n",
    "        ipositionold = 2\n",
    "    print([iposition, iw,ih])\n",
    "    iwhs.append([iw,ih])\n",
    "    \n",
    "    diw = 1\n",
    "    dih = 1\n",
    "    if( icode > 2 ):\n",
    "        if( iwhs[icode] == iwhs[icode-4] ):\n",
    "            dih = 4\n",
    "            diw = 4\n",
    "#            if( iposition == 0 ):\n",
    "#                dih = 3\n",
    "#            if( iposition == 1 ):\n",
    "#                dih = 3\n",
    "#            if( iposition == 2 ):\n",
    " #               diw = 3\n",
    "#            if( iposition == 3 ):\n",
    "#                diw = 3\n",
    "    \n",
    "    if( icode == 0 ):\n",
    "        icode0 = 1\n",
    "\n",
    "    #print(iwhs)"
   ]
  },
  {
   "cell_type": "code",
   "execution_count": 570,
   "metadata": {
    "collapsed": true
   },
   "outputs": [],
   "source": [
    "initial_octave = 2 #3:[A4,...], 4:[A5,...] \n",
    "initial_key = 3 # A:0, C:3\n",
    "plus_octave = 2\n",
    "\n",
    "secmin = 0\n",
    "dsec = 0.2\n",
    "\n",
    "sr = 44100 # sampling rate ex.44100Hz"
   ]
  },
  {
   "cell_type": "code",
   "execution_count": 571,
   "metadata": {
    "collapsed": false
   },
   "outputs": [],
   "source": [
    "# print(codesHSVF)\n",
    "Hs = codesHSVF[:,0]\n",
    "Ss = codesHSVF[:,1]\n",
    "Vs = codesHSVF[:,2]"
   ]
  },
  {
   "cell_type": "code",
   "execution_count": null,
   "metadata": {
    "collapsed": false
   },
   "outputs": [],
   "source": [
    "# t1: time of peak\n",
    "# a1: trancation exponent(a1=1: NoEffect, 1<<a1: too tracate)\n",
    "# a2: trancation exponent(0<a2, 0<a2<<1: too tracate, 1<<a2: NoEffect\n",
    "# a1=-1&a2=1: convex trancation shape\n",
    "\n",
    "wave_temp = []\n",
    "freqs = []\n",
    "Hmin = min(Hs)\n",
    "Hmax = max(Hs)\n",
    "Smin = min(Ss)\n",
    "Smax = max(Ss)\n",
    "Vmin = min(Vs)\n",
    "Vmax = max(Vs)\n",
    "for i in range(len(Hs)):\n",
    "    freq = hue2key(initial_octave, plus_octave, initial_key, [Hs[i],Hmin,Hmax])\n",
    "    freqs.append(freq)\n",
    "    Stld = (Ss[i]-Smin)/(Smax-Smin)\n",
    "    Tratio = 2.4\n",
    "    T = secmin + dsec*Tratio*((1-Stld+0.2)**1.2)\n",
    "    Vtld = (Vs[i]-Vmin)/(Vmax-Vmin)\n",
    "    aparam = [0.02*T*Vtld, 1, 0.1*Vtld] #t1,a1,a2\n",
    "#    aparam = [0.02*T, 1, 0.1] #t1,a1,a2\n",
    "    wave_temp.append( makeampFnwave(1, freq, T, sr, aparam) )\n",
    "wave_temp = np.array(list(chain.from_iterable(wave_temp)))\n",
    "\n",
    "wave0 = wave_temp"
   ]
  },
  {
   "cell_type": "code",
   "execution_count": null,
   "metadata": {
    "collapsed": false
   },
   "outputs": [],
   "source": [
    "wave0"
   ]
  },
  {
   "cell_type": "code",
   "execution_count": null,
   "metadata": {
    "collapsed": false
   },
   "outputs": [],
   "source": [
    "plt.plot(wave0)"
   ]
  },
  {
   "cell_type": "code",
   "execution_count": null,
   "metadata": {
    "collapsed": false
   },
   "outputs": [],
   "source": [
    "#C3:130.81, B3:246.94, C4:261.63, B4:493.88, C5:523,25\n",
    "plt.plot(freqs)"
   ]
  },
  {
   "cell_type": "code",
   "execution_count": null,
   "metadata": {
    "collapsed": false
   },
   "outputs": [],
   "source": [
    "wave0max = max(abs(wave0))\n",
    "print(wave0max)\n",
    "wave0 = wave0/wave0max"
   ]
  },
  {
   "cell_type": "code",
   "execution_count": null,
   "metadata": {
    "collapsed": false
   },
   "outputs": [],
   "source": [
    "wavwrite(wave0,\"music.wav\")"
   ]
  },
  {
   "cell_type": "code",
   "execution_count": null,
   "metadata": {
    "collapsed": true
   },
   "outputs": [],
   "source": []
  },
  {
   "cell_type": "code",
   "execution_count": null,
   "metadata": {
    "collapsed": true
   },
   "outputs": [],
   "source": []
  },
  {
   "cell_type": "code",
   "execution_count": null,
   "metadata": {
    "collapsed": true
   },
   "outputs": [],
   "source": []
  },
  {
   "cell_type": "code",
   "execution_count": null,
   "metadata": {
    "collapsed": true
   },
   "outputs": [],
   "source": []
  },
  {
   "cell_type": "code",
   "execution_count": null,
   "metadata": {
    "collapsed": true
   },
   "outputs": [],
   "source": []
  },
  {
   "cell_type": "code",
   "execution_count": null,
   "metadata": {
    "collapsed": true
   },
   "outputs": [],
   "source": []
  },
  {
   "cell_type": "code",
   "execution_count": null,
   "metadata": {
    "collapsed": true
   },
   "outputs": [],
   "source": []
  },
  {
   "cell_type": "code",
   "execution_count": null,
   "metadata": {
    "collapsed": true
   },
   "outputs": [],
   "source": [
    "import math\n",
    "\n",
    "def hsv2rgb(h, s, v):\n",
    "    h = float(h)\n",
    "    s = float(s)\n",
    "    v = float(v)\n",
    "    h60 = h / 60.0\n",
    "    h60f = math.floor(h60)\n",
    "    hi = int(h60f) % 6\n",
    "    f = h60 - h60f\n",
    "    p = v * (1 - s)\n",
    "    q = v * (1 - f * s)\n",
    "    t = v * (1 - (1 - f) * s)\n",
    "    r, g, b = 0, 0, 0\n",
    "    if hi == 0: r, g, b = v, t, p\n",
    "    elif hi == 1: r, g, b = q, v, p\n",
    "    elif hi == 2: r, g, b = p, v, t\n",
    "    elif hi == 3: r, g, b = p, q, v\n",
    "    elif hi == 4: r, g, b = t, p, v\n",
    "    elif hi == 5: r, g, b = v, p, q\n",
    "    r, g, b = int(r * 255), int(g * 255), int(b * 255)\n",
    "    return r, g, b\n",
    "    \n",
    "def rgb2hsv(r, g, b):\n",
    "    r, g, b = r/255.0, g/255.0, b/255.0\n",
    "    mx = max(r, g, b)\n",
    "    mn = min(r, g, b)\n",
    "    df = mx-mn\n",
    "    if mx == mn:\n",
    "        h = 0\n",
    "    elif mx == r:\n",
    "        h = (60 * ((g-b)/df) + 360) % 360\n",
    "    elif mx == g:\n",
    "        h = (60 * ((b-r)/df) + 120) % 360\n",
    "    elif mx == b:\n",
    "        h = (60 * ((r-g)/df) + 240) % 360\n",
    "    if mx == 0:\n",
    "        s = 0\n",
    "    else:\n",
    "        s = df/mx\n",
    "    v = mx\n",
    "    return h, s, v\n",
    "\n",
    "# R, G, B values are [0, 255]. H value is [0, 360]. S, V values are [0, 1]."
   ]
  },
  {
   "cell_type": "code",
   "execution_count": null,
   "metadata": {
    "collapsed": false
   },
   "outputs": [],
   "source": [
    "print(codesRGB)\n",
    "print(codesHSV)"
   ]
  },
  {
   "cell_type": "code",
   "execution_count": null,
   "metadata": {
    "collapsed": false
   },
   "outputs": [],
   "source": [
    "#hsv = rgb2hsv(131.08512673,162.47345768,182.56001913)\n",
    "hsv = rgb2hsv(131,162,182)\n",
    "print(hsv)\n",
    "print([hsv[0]/2, hsv[1]*255, hsv[2]*255])"
   ]
  },
  {
   "cell_type": "code",
   "execution_count": null,
   "metadata": {
    "collapsed": true
   },
   "outputs": [],
   "source": []
  },
  {
   "cell_type": "code",
   "execution_count": null,
   "metadata": {
    "collapsed": true
   },
   "outputs": [],
   "source": []
  },
  {
   "cell_type": "code",
   "execution_count": null,
   "metadata": {
    "collapsed": true
   },
   "outputs": [],
   "source": []
  },
  {
   "cell_type": "code",
   "execution_count": null,
   "metadata": {
    "collapsed": true
   },
   "outputs": [],
   "source": []
  },
  {
   "cell_type": "code",
   "execution_count": null,
   "metadata": {
    "collapsed": true
   },
   "outputs": [],
   "source": []
  },
  {
   "cell_type": "code",
   "execution_count": null,
   "metadata": {
    "collapsed": true
   },
   "outputs": [],
   "source": [
    "#for ii in range(icodemax):\n",
    "    if( icode0 == 1 ):\n",
    "        icode = icode + 1\n",
    "\n",
    "    nextsRGB = []\n",
    "    ipositionBoundaries =[]\n",
    "    if(divw != iw+1):\n",
    "        nextsRGB.append( mean_image(dividedimgs[ih,iw+1]) )\n",
    "    if(divh == iw+1):\n",
    "        nextsRGB.append( [0,0,0] )\n",
    "        ipositionBoundaries.append(0)\n",
    "    if(-1 != iw-1):\n",
    "        nextsRGB.append( mean_image(dividedimgs[ih,iw-1]) )\n",
    "    if(-1 == iw-1):\n",
    "        nextsRGB.append( [1,1,1] )\n",
    "        ipositionBoundaries.append(1)\n",
    "    if(divh != ih+1):\n",
    "        nextsRGB.append( mean_image(dividedimgs[ih+1,iw]) )\n",
    "    if(divh == ih+1):\n",
    "        nextsRGB.append( [2,2,2] )\n",
    "        ipositionBoundaries.append(2)\n",
    "    if(-1 != ih-1):\n",
    "        nextsRGB.append( mean_image(dividedimgs[ih-1,iw]) )\n",
    "    if(-1 == ih-1):\n",
    "        nextsRGB.append( [3,3,3] )\n",
    "        ipositionBoundaries.append(3)\n",
    "    nextsRGB = np.array([nextsRGB]) #to change a showable RGB data\n",
    "    nextsRGB = np.uint8(nextsRGB)\n",
    "\n",
    "    nextsHSV = cv2.cvtColor( nextsRGB, cv2.COLOR_RGB2HSV )\n",
    "    nextsHSV[:,:,0] = np.mod(nextsHSV[:,:,0], 180)\n",
    "\n",
    "    nextsHSV = np.float_(nextsHSV)\n",
    "    if(divh == iw+1):\n",
    "        nextsHSV[0,0] = np.array([0.1,0.1,0.1])\n",
    "    if(-1 == iw-1):\n",
    "        nextsHSV[0,1] = np.array([0.2,0.2,0.2])\n",
    "    if(divh == ih+1):\n",
    "        nextsHSV[0,2] = np.array([0.3,0.3,0.3])\n",
    "    if(-1 == ih-1):\n",
    "        nextsHSV[0,3] = np.array([0.4,0.4,0.4])\n",
    "\n",
    "    nextsH = nextsHSV[0,:,0]\n",
    "    dHues = abs( np.float_(nextsH) - np.float_(codesHSV[0,icode,0]) )\n",
    "\n",
    "    dHuesSort = np.sort(dHues)\n",
    "    dHuesSort\n",
    "\n",
    "    dHuesindex = []\n",
    "    for i in range(len(dHues)):\n",
    "        dHuesindex.append( dHues.tolist().index(dHuesSort[i]) )\n",
    "\n",
    "    dHuesindexbad = set([])\n",
    "    if( icode != 0 ):\n",
    "        dHuesindexbad.add( dHuesindex.index(ipositionold) )\n",
    "    if(len(ipositionBoundaries) > 0):\n",
    "        for i in range(len(ipositionBoundaries)):\n",
    "            if( icode != 0 ):\n",
    "                if( dHuesindex.index(ipositionold) != dHuesindex.index(ipositionBoundaries[i]) ):\n",
    "                    dHuesindexbad.add( dHuesindex.index(ipositionBoundaries[i]) )\n",
    "    dHuesindexbad = list(dHuesindexbad)\n",
    "\n",
    "    dHuesindexbad = sorted(dHuesindexbad, reverse=True)\n",
    "\n",
    "    if( len(dHuesindexbad) > 0 ):\n",
    "        for i in range( len(dHuesindexbad) ):\n",
    "            dHuesindex.pop( dHuesindexbad[i] )\n",
    "\n",
    "#    if( np.mod(icode,2) == 1 ):\n",
    "    iposition = dHuesindex[0]\n",
    "#    if( np.mod(icode,2) == 0 ):\n",
    "#        iposition = dHuesindex[len(dHuesindex)-1]\n",
    "\n",
    "    nextsHSV = np.uint8(nextsHSV)\n",
    "\n",
    "    codesRGB = np.array([ np.concatenate(np.array([codesRGB[0], nextsRGB[:,iposition] ])) ])\n",
    "    codesHSV = np.array([ np.concatenate(np.array([codesHSV[0], nextsHSV[:,iposition] ])) ])\n",
    "\n",
    "    if( icode == 0 ):\n",
    "        iwhs = [[iw,ih]]\n",
    "        print([iw,ih])\n",
    "\n",
    "    #print([iw,ih])\n",
    "    if(iposition == 0):\n",
    "        iw = iw + 1\n",
    "        ipositionold = 1\n",
    "    if(iposition == 1):\n",
    "        iw = iw - 1\n",
    "        ipositionold = 0\n",
    "    if(iposition == 2):\n",
    "        ih = ih + 1\n",
    "        ipositionold = 3\n",
    "    if(iposition == 3):\n",
    "        ih = ih - 1\n",
    "        ipositionold = 2\n",
    "    print([iw,ih])\n",
    "    iwhs.append([iw,ih])\n",
    "\n",
    "    if( icode == 0 ):\n",
    "        icode0 = 1\n",
    "        \n",
    "#print(iwhs)"
   ]
  }
 ],
 "metadata": {
  "kernelspec": {
   "display_name": "Python 3",
   "language": "python",
   "name": "python3"
  },
  "language_info": {
   "codemirror_mode": {
    "name": "ipython",
    "version": 3
   },
   "file_extension": ".py",
   "mimetype": "text/x-python",
   "name": "python",
   "nbconvert_exporter": "python",
   "pygments_lexer": "ipython3",
   "version": "3.5.1"
  }
 },
 "nbformat": 4,
 "nbformat_minor": 0
}
