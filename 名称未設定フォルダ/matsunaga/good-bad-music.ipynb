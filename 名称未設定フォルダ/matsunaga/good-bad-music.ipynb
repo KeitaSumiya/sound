{
 "cells": [
  {
   "cell_type": "code",
   "execution_count": 1,
   "metadata": {
    "collapsed": true
   },
   "outputs": [],
   "source": [
    "import numpy as np\n",
    "import cv2\n",
    "%matplotlib inline\n",
    "import matplotlib.pyplot as plt\n",
    "from itertools import chain\n",
    "import random\n",
    "import math"
   ]
  },
  {
   "cell_type": "code",
   "execution_count": 2,
   "metadata": {
    "collapsed": true
   },
   "outputs": [],
   "source": [
    "# amp\n",
    "def ampFn(amp_type,t,t0,T,amp,aparam):\n",
    "    # t0: initial time\n",
    "    # T: length of time for sound\n",
    "    # t1: time of peak\n",
    "    # a1: trancation exponent(a1=1: NoEffect, 1<<a1: too tracate)\n",
    "    # a2: trancation exponent(0<a2, 0<a2<<1: too tracate, 1<<a2: NoEffect\n",
    "    # a1=-1&a2=1: convex trancation shape\n",
    "    t1 = aparam[0]\n",
    "    a1 = aparam[1]\n",
    "    a2 = aparam[2]\n",
    "    if amp_type == 1:\n",
    "        if t <= t0:\n",
    "            ampVal = 0\n",
    "        else:\n",
    "            if t <= t0 + t1:\n",
    "                ampVal = amp*(t-t0)/t1\n",
    "            else:\n",
    "                ampVal = amp*(-(t-T)/T)*((t1+a2)/(t-t0+a2))**a1\n",
    "\n",
    "    return(ampVal)\n",
    "\n",
    "\n",
    "def makeampFnwave(amp, freq,T, dT, sr, aparam):\n",
    "    outwave = []\n",
    "#    dT = 0.2\n",
    "    T = np.around(T/dT)*dT\n",
    "    dt = 1/sr\n",
    "    t0 = 0\n",
    "    for t in np.arange( 0., T+dt, dt ) :\n",
    "        w = ampFn(1, t, t0, T, amp, aparam)*np.sin(2*np.pi*freq*t)\n",
    "        outwave.append(w)\n",
    "    return(outwave)"
   ]
  },
  {
   "cell_type": "code",
   "execution_count": 3,
   "metadata": {
    "collapsed": true
   },
   "outputs": [],
   "source": [
    "import wave\n",
    "import struct\n",
    "\n",
    "def makewave(amp,freq,sec,sr):\n",
    "    outwave = []\n",
    "    for i in range( int(sec*sr) ) :\n",
    "        w = amp*np.sin(2*np.pi*freq*i/sr)\n",
    "        outwave.append(w)\n",
    "    return(outwave)\n",
    "\n",
    "\n",
    "def wavwrite(inputlist,filename):\n",
    "    maxamp = 32767.0\n",
    "    int16wave = [int(x * maxamp) for x in inputlist]\n",
    "    binwave = struct.pack(\"h\"*len(int16wave),*int16wave)\n",
    "\n",
    "    nchannnles = 1 # 1=monoral , 2=stereo\n",
    "    sampwitdth = 2 # 1=8bit,2=16bit,3=,...\n",
    "    framerate = 44100 # sampling rate ex.44100Hz\n",
    "    nframes = len(inputlist) # framerate * sec\n",
    "    \n",
    "    of = wave.open(filename,\"w\")\n",
    "    of.setparams((nchannnles,sampwitdth,framerate,nframes,\"NONE\",\"not compressed\"))\n",
    "    of.writeframes(binwave)\n",
    "    of.close"
   ]
  },
  {
   "cell_type": "code",
   "execution_count": 4,
   "metadata": {
    "collapsed": false
   },
   "outputs": [
    {
     "name": "stdout",
     "output_type": "stream",
     "text": [
      "0.999770575752\n"
     ]
    }
   ],
   "source": [
    "Tbase = 0.5\n",
    "dT =0.2\n",
    "sr = 44100 # sampling rate ex.44100Hz\n",
    "\n",
    "wave_temp = []\n",
    "# d l m f s r c \n",
    "d, dsh, l, lsh, m, f, fsh, s, ssh, r, rsh, c, d2, d2sh, l2 = range(39,54)\n",
    "keys =     [   r,  fsh,    m,  l,  fsh,    s,     r,      c, r,   c,     s, fsh,    m, s,    r,      c,c,d2sh,  c,d2sh,     c,     r,      s,    s,  fsh,   m, l] # good \n",
    "#keys =     [ssh,     f,  lsh,  l,  fsh,    s,   rsh,      c, r,   c,     s,    f,  lsh, s, rsh,     c,c,        l,  c,d2sh,     c,   ssh,      s,    s,   f,   m, l] \n",
    "Tratios = [   1,1/2,1/2, 1,1/2,1/2,3/2,1/2,2,   1,1/2,1/2,1/2,1,1/2,1/2,1,  1/2, 2,       1,1/2,1/2,1/2,1/2,1/2,1/2,4]\n",
    "for i in range(len(keys)):\n",
    "    freq_temp2 = math.pow(2.0, keys[i])\n",
    "    freq = 27.5 * ((freq_temp2) ** (1.0/12.0))\n",
    "    T = Tbase*Tratios[i]\n",
    "    aparam = [0.02*T, 1, 0.1] #t1,a1,a2\n",
    "    wave_temp.append( makeampFnwave(1, freq, T, dT, sr, aparam) )\n",
    "wave_temp = np.array(list(chain.from_iterable(wave_temp)))\n",
    "\n",
    "wave0 = wave_temp\n",
    "\n",
    "wave0max = max(abs(wave0))\n",
    "print(wave0max)\n",
    "wave0 = wave0/wave0max\n",
    "\n",
    "wavwrite(wave0,\"is_music.wav\")"
   ]
  },
  {
   "cell_type": "code",
   "execution_count": null,
   "metadata": {
    "collapsed": true
   },
   "outputs": [],
   "source": []
  },
  {
   "cell_type": "code",
   "execution_count": 5,
   "metadata": {
    "collapsed": true
   },
   "outputs": [],
   "source": [
    "# reference\n",
    "# http://133.88.240.21/~matsunaga/~matsunagarie/index.php?plugin=attach&refer=Publications&openfile=08%E6%9D%BE%E6%B0%B8%E9%98%BF%E9%83%A8.pdf\n",
    "# fig1"
   ]
  },
  {
   "cell_type": "code",
   "execution_count": null,
   "metadata": {
    "collapsed": true
   },
   "outputs": [],
   "source": []
  }
 ],
 "metadata": {
  "kernelspec": {
   "display_name": "Python 3",
   "language": "python",
   "name": "python3"
  },
  "language_info": {
   "codemirror_mode": {
    "name": "ipython",
    "version": 3
   },
   "file_extension": ".py",
   "mimetype": "text/x-python",
   "name": "python",
   "nbconvert_exporter": "python",
   "pygments_lexer": "ipython3",
   "version": "3.5.1"
  }
 },
 "nbformat": 4,
 "nbformat_minor": 0
}
