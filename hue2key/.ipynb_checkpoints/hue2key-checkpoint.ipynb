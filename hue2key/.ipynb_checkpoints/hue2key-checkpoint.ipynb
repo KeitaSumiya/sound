{
 "cells": [
  {
   "cell_type": "markdown",
   "metadata": {},
   "source": [
    "# Def /////////////////////////////////////////////////"
   ]
  },
  {
   "cell_type": "code",
   "execution_count": 1,
   "metadata": {
    "collapsed": true
   },
   "outputs": [],
   "source": [
    "import numpy as np\n",
    "import cv2\n",
    "%matplotlib inline\n",
    "import matplotlib.pyplot as plt\n",
    "from itertools import chain, zip_longest\n",
    "import random\n",
    "import time\n",
    "import math\n",
    "import wave\n",
    "import struct"
   ]
  },
  {
   "cell_type": "code",
   "execution_count": 73,
   "metadata": {
    "collapsed": true
   },
   "outputs": [],
   "source": [
    "def makewave(amp,freq,sec,sr):\n",
    "    outwave = []\n",
    "    for i in range( int(sec*sr) ) :\n",
    "        w = amp*np.sin(2*np.pi*freq*i/sr)\n",
    "        outwave.append(w)\n",
    "    return(outwave)\n",
    "\n",
    "def makewave2(amp,freq,tbgn,tend,sr):\n",
    "    outwave = []\n",
    "    for t in np.arange( tbgn, tend, 1/sr ) :\n",
    "        w = amp*np.sin(2*np.pi*freq*t)\n",
    "        outwave.append(w)\n",
    "    return(outwave)\n",
    "\n",
    "\n",
    "def wavwrite(inputlist,filename):\n",
    "    maxamp = 32767.0\n",
    "    int16wave = [int(x * maxamp) for x in inputlist]\n",
    "    binwave = struct.pack(\"h\"*len(int16wave),*int16wave)\n",
    "\n",
    "    nchannnles = 1 # 1=monoral , 2=stereo\n",
    "    sampwitdth = 2 # 1=8bit,2=16bit,3=,...\n",
    "    framerate = 44100 # sampling rate ex.44100Hz\n",
    "    nframes = len(inputlist) # framerate * sec\n",
    "    \n",
    "    of = wave.open(filename,\"w\")\n",
    "    of.setparams((nchannnles,sampwitdth,framerate,nframes,\"NONE\",\"not compressed\"))\n",
    "    of.writeframes(binwave)\n",
    "    of.close"
   ]
  },
  {
   "cell_type": "code",
   "execution_count": 74,
   "metadata": {
    "collapsed": true
   },
   "outputs": [],
   "source": [
    "def hue2key(initial_octave, plus_octave, initial_key, colors):\n",
    "    color = colors[0]\n",
    "    colormin = colors[1]\n",
    "    colormax = colors[2]\n",
    "    dcolor = colormax-colormin\n",
    "    keymin = 12*initial_octave + initial_key\n",
    "    keymax = 12*(initial_octave + plus_octave) + initial_key\n",
    "    dkey = keymax - keymin\n",
    "\n",
    "    key = int( keymin + dkey * (color-colormin)/(colormax-colormin) )\n",
    "    freq = 16.35 * (( math.pow(2.0, key) ) ** (1.0/12.0))\n",
    "    \n",
    "    return(freq)\n",
    "\n",
    "\n",
    "def hue2keywb(initial_octave, plus_octave, initial_key, colors, wbs):\n",
    "    color, colormin, colormax = colors\n",
    "    dcolor = colormax-colormin\n",
    "    wb, allwhites, allblacks = wbs  # wb=1=white, wb=0=black\n",
    "\n",
    "    dcolor = colormax-colormin\n",
    "    if(wb == 1):\n",
    "        octave_num = 7\n",
    "        allwbs = allwhites\n",
    "    elif(wb == 0):\n",
    "        octave_num = 5\n",
    "        allwbs = allblacks\n",
    "        \n",
    "    keymin = octave_num*initial_octave + initial_key\n",
    "    keymax = octave_num*(initial_octave + plus_octave) + initial_key\n",
    "    dkey = keymax - keymin\n",
    "\n",
    "    key = allwbs[ int( keymin + dkey * (color-colormin)/(colormax-colormin) ) - 0 ]\n",
    "    freq = 16.35 * (( math.pow(2.0, key) ) ** (1.0/12.0))\n",
    "\n",
    "    return(freq)"
   ]
  },
  {
   "cell_type": "code",
   "execution_count": 75,
   "metadata": {
    "collapsed": false
   },
   "outputs": [
    {
     "name": "stdout",
     "output_type": "stream",
     "text": [
      "[0, 2, 4, 5, 7, 9, 11, 12, 14, 16, 17, 19, 21, 23, 24, 26, 28, 29, 31, 33, 35, 36, 38, 40, 41, 43, 45, 47, 48, 50, 52, 53, 55, 57, 59, 60, 62, 64, 65, 67, 69, 71, 72, 74, 76, 77, 79, 81, 83, 84, 86, 88, 89, 91, 93, 95, 96, 98, 100, 101, 103, 105, 107, 108, 110, 112, 113, 115, 117, 119]\n",
      "[1, 3, 6, 8, 10, 13, 15, 18, 20, 22, 25, 27, 30, 32, 34, 37, 39, 42, 44, 46, 49, 51, 54, 56, 58, 61, 63, 66, 68, 70, 73, 75, 78, 80, 82, 85, 87, 90, 92, 94, 97, 99, 102, 104, 106, 109, 111, 114, 116, 118]\n"
     ]
    }
   ],
   "source": [
    "#blackbase=[  2,4,   7, 9, 11]\n",
    "#whitebase=[1,3,5,6,8,10,12]\n",
    "blackbase=[  1,3,   6, 8, 10]\n",
    "whitebase=[0,2,4,5,7,9,11]\n",
    "whites = []\n",
    "blacks = []\n",
    "for i in range(0, 10):\n",
    "    whites.append( np.array(whitebase)+12*i )\n",
    "    blacks.append( np.array(blackbase)+12*i )\n",
    "#whites = np.concatenate(whites).tolist()\n",
    "allwhites = list( np.concatenate(whites) )\n",
    "allblacks = list( np.concatenate(blacks) )\n",
    "print(allwhites)\n",
    "print(allblacks)"
   ]
  },
  {
   "cell_type": "markdown",
   "metadata": {},
   "source": [
    "# Main /////////////////////////////////////////////////"
   ]
  },
  {
   "cell_type": "markdown",
   "metadata": {},
   "source": [
    "## hue2key"
   ]
  },
  {
   "cell_type": "code",
   "execution_count": 90,
   "metadata": {
    "collapsed": false
   },
   "outputs": [
    {
     "name": "stdout",
     "output_type": "stream",
     "text": [
      "{261.59999999999997, 391.9571313109399, 523.1999999999999, 783.9142626218796, 659.1906933049976, 277.1555454843916, 1046.3999999999999, 415.26411519488096, 932.2364186620508, 293.63607183773195, 554.3110909687832, 439.9570044607434, 311.0965812847118, 698.388211701762, 830.5282303897619, 329.5953466524988, 587.2721436754639, 466.11820933102547, 987.670080790124, 349.194105850881, 739.9165358336032, 493.835040395062, 622.1931625694236, 879.9140089214868, 369.9582679168016}\n"
     ]
    },
    {
     "data": {
      "image/png": "[encoded data removed]",
      "text/plain": [
       "<matplotlib.figure.Figure at 0x112621828>"
      ]
     },
     "metadata": {},
     "output_type": "display_data"
    }
   ],
   "source": [
    "sr = 44100 # sampling rate ex.44100Hz\n",
    "\n",
    "initial_octave = 4 #0=[C0, C#0, ..., C1]\n",
    "initial_key = 0 # 0=C=ド\n",
    "plus_octave = 2\n",
    "\n",
    "Hs = range(255+1)\n",
    "\n",
    "freqs = []\n",
    "wave0 = []\n",
    "dT = 0.1\n",
    "\n",
    "Hmin = min(Hs)\n",
    "Hmax = max(Hs)\n",
    "#for i in range(10):\n",
    "for i in range(len(Hs)):\n",
    "    freq = hue2key(initial_octave, plus_octave, initial_key, [Hs[i],Hmin,Hmax])\n",
    "    freqs.append(freq)\n",
    "    wave0.append( makewave2(1, freq, i*dT, (i+1)*dT, sr) )\n",
    "\n",
    "    \n",
    "fig = plt.figure(figsize=(20,5))\n",
    "ax1 = fig.add_subplot(121)\n",
    "ax2 = fig.add_subplot(122)\n",
    "\n",
    "ax1.plot(Hs)\n",
    "ax2.plot(freqs)\n",
    "\n",
    "print( set(freqs) )\n",
    "\n",
    "wave0 = np.concatenate(wave0)\n",
    "wave0max = max(abs(wave0))\n",
    "wave0 = wave0/wave0max\n",
    "wavwrite(list(wave0),\"music_hue2key.wav\")"
   ]
  },
  {
   "cell_type": "markdown",
   "metadata": {},
   "source": [
    "## hue2key_white"
   ]
  },
  {
   "cell_type": "code",
   "execution_count": 91,
   "metadata": {
    "collapsed": false
   },
   "outputs": [
    {
     "name": "stdout",
     "output_type": "stream",
     "text": [
      "{293.63607183773195, 261.59999999999997, 391.9571313109399, 329.5953466524988, 523.1999999999999, 587.2721436754639, 493.835040395062, 783.9142626218796, 879.9140089214868, 659.1906933049976, 1046.3999999999999, 439.9570044607434, 698.388211701762, 987.670080790124, 349.194105850881}\n"
     ]
    },
    {
     "data": {
      "image/png": "[encoded data removed]",
      "text/plain": [
       "<matplotlib.figure.Figure at 0x112644be0>"
      ]
     },
     "metadata": {},
     "output_type": "display_data"
    }
   ],
   "source": [
    "initial_octave = 4 #0=[C0, C#0, ..., C1]\n",
    "initial_key = 0 # 0=C=ド\n",
    "plus_octave = 2\n",
    "\n",
    "Hs = range(255+1)\n",
    "\n",
    "freqs = []\n",
    "wave0 = []\n",
    "dT = 0.1\n",
    "\n",
    "Hmin = min(Hs)\n",
    "Hmax = max(Hs)\n",
    "for i in range(len(Hs)):\n",
    "    freq = hue2keywb(initial_octave, plus_octave, initial_key, [Hs[i],Hmin,Hmax], [1, allwhites, allblacks])\n",
    "    freqs.append(freq)\n",
    "    wave0.append( makewave2(1, freq, i*dT, (i+1)*dT, sr) )\n",
    "    \n",
    "fig = plt.figure(figsize=(20,5))\n",
    "ax1 = fig.add_subplot(121)\n",
    "ax2 = fig.add_subplot(122)\n",
    "\n",
    "ax1.plot(Hs)\n",
    "ax2.plot(freqs)\n",
    "\n",
    "print( set(freqs) )\n",
    "\n",
    "wave0 = np.concatenate(wave0)\n",
    "wave0max = max(abs(wave0))\n",
    "wave0 = wave0/wave0max\n",
    "wavwrite(wave0,\"music_hue2keyw.wav\")"
   ]
  },
  {
   "cell_type": "code",
   "execution_count": 92,
   "metadata": {
    "collapsed": false
   },
   "outputs": [
    {
     "name": "stdout",
     "output_type": "stream",
     "text": [
      "{739.9165358336032, 932.2364186620508, 554.3110909687832, 622.1931625694236, 369.9582679168016, 466.11820933102547, 1108.6221819375664, 277.1555454843916, 311.0965812847118, 830.5282303897619, 415.26411519488096}\n"
     ]
    },
    {
     "data": {
      "image/png": "[encoded data removed]",
      "text/plain": [
       "<matplotlib.figure.Figure at 0x113970748>"
      ]
     },
     "metadata": {},
     "output_type": "display_data"
    }
   ],
   "source": [
    "initial_octave = 4 #0=[C0, C#0, ..., C1]\n",
    "initial_key = 0 # 0=C=ド\n",
    "plus_octave = 2\n",
    "\n",
    "Hs = range(255+1)\n",
    "\n",
    "freqs = []\n",
    "wave0 = []\n",
    "dT = 0.1\n",
    "\n",
    "Hmin = min(Hs)\n",
    "Hmax = max(Hs)\n",
    "for i in range(len(Hs)):\n",
    "    freq = hue2keywb(initial_octave, plus_octave, initial_key, [Hs[i],Hmin,Hmax], [0, allwhites, allblacks])\n",
    "    freqs.append(freq)\n",
    "    wave0.append( makewave2(1, freq, i*dT, (i+1)*dT, sr) )\n",
    "    \n",
    "fig = plt.figure(figsize=(20,5))\n",
    "ax1 = fig.add_subplot(121)\n",
    "ax2 = fig.add_subplot(122)\n",
    "\n",
    "ax1.plot(Hs)\n",
    "ax2.plot(freqs)\n",
    "\n",
    "print( set(freqs) )\n",
    "\n",
    "wave0 = np.concatenate(wave0)\n",
    "wave0max = max(abs(wave0))\n",
    "wave0 = wave0/wave0max\n",
    "wavwrite(wave0,\"music_hue2keyb.wav\")"
   ]
  },
  {
   "cell_type": "code",
   "execution_count": null,
   "metadata": {
    "collapsed": true
   },
   "outputs": [],
   "source": []
  },
  {
   "cell_type": "code",
   "execution_count": null,
   "metadata": {
    "collapsed": true
   },
   "outputs": [],
   "source": []
  },
  {
   "cell_type": "code",
   "execution_count": null,
   "metadata": {
    "collapsed": true
   },
   "outputs": [],
   "source": []
  }
 ],
 "metadata": {
  "kernelspec": {
   "display_name": "Python 3",
   "language": "python",
   "name": "python3"
  },
  "language_info": {
   "codemirror_mode": {
    "name": "ipython",
    "version": 3
   },
   "file_extension": ".py",
   "mimetype": "text/x-python",
   "name": "python",
   "nbconvert_exporter": "python",
   "pygments_lexer": "ipython3",
   "version": "3.5.1"
  }
 },
 "nbformat": 4,
 "nbformat_minor": 0
}
